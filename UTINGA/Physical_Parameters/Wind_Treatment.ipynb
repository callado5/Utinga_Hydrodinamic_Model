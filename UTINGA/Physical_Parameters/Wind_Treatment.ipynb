{
 "cells": [
  {
   "attachments": {},
   "cell_type": "markdown",
   "metadata": {},
   "source": [
    "# Treatment INMET WIND DATA\n",
    "In this case we have a table with all INMET meteorological varibles, in this case we want only to extract and creat a table with date, wind intesity and direction."
   ]
  },
  {
   "attachments": {},
   "cell_type": "markdown",
   "metadata": {},
   "source": [
    "OPENING DATAFRAME"
   ]
  },
  {
   "cell_type": "code",
   "execution_count": 43,
   "metadata": {},
   "outputs": [
    {
     "name": "stdout",
     "output_type": "stream",
     "text": [
      "         Data  Hora (UTC)  Temp. Ins. (C)  Temp. Max. (C)  Temp. Min. (C)  \\\n",
      "0  01/01/2022           0            24.3            24.3            24.1   \n",
      "1  01/01/2022         100            24.5            24.6            24.3   \n",
      "2  01/01/2022         200            24.1            24.6            24.1   \n",
      "3  01/01/2022         300            23.9            24.1            23.9   \n",
      "4  01/01/2022         400            23.9            23.9            23.9   \n",
      "\n",
      "   Umi. Ins. (%)  Umi. Max. (%)  Umi. Min. (%)  Pto Orvalho Ins. (C)  \\\n",
      "0           96.0           97.0           96.0                  23.6   \n",
      "1           97.0           97.0           95.0                  23.9   \n",
      "2           97.0           97.0           97.0                  23.6   \n",
      "3           98.0           98.0           97.0                  23.5   \n",
      "4           98.0           98.0           98.0                  23.5   \n",
      "\n",
      "   Pto Orvalho Max. (C)  Pto Orvalho Min. (C)  Pressao Ins. (hPa)  \\\n",
      "0                  23.8                  23.5              1009.0   \n",
      "1                  24.0                  23.6              1009.5   \n",
      "2                  24.1                  23.6              1009.8   \n",
      "3                  23.7                  23.5              1009.4   \n",
      "4                  23.6                  23.5              1008.7   \n",
      "\n",
      "   Pressao Max. (hPa)  Pressao Min. (hPa)  Vel. Vento (m/s)  Dir. Vento (m/s)  \\\n",
      "0              1009.0              1008.7               0.0              28.0   \n",
      "1              1009.5              1009.0               0.0             169.0   \n",
      "2              1009.8              1009.5               0.9             137.0   \n",
      "3              1009.8              1009.4               1.6             149.0   \n",
      "4              1009.4              1008.7               0.1             142.0   \n",
      "\n",
      "   Raj. Vento (m/s)  Radiacao (KJ/m²)  Chuva (mm)  \n",
      "0               2.0               NaN         0.0  \n",
      "1               1.5               NaN         0.2  \n",
      "2               4.3               NaN         1.0  \n",
      "3               3.2               NaN         0.4  \n",
      "4               3.2               NaN         0.6  \n"
     ]
    }
   ],
   "source": [
    "import pandas as pd\n",
    "import os \n",
    "import datetime\n",
    "import numpy as np\n",
    "\n",
    "os.chdir('C:\\\\Users\\\\mavca\\\\OneDrive\\\\UTINGA\\\\Physical_Parameters')\n",
    "df = pd.read_csv('INMET_BELEM_2022-2023.csv', sep = ';')\n",
    "print(df.head())"
   ]
  },
  {
   "attachments": {},
   "cell_type": "markdown",
   "metadata": {},
   "source": [
    "Getting only the wind velocity and directions"
   ]
  },
  {
   "cell_type": "code",
   "execution_count": 47,
   "metadata": {},
   "outputs": [
    {
     "data": {
      "text/plain": [
       "0.9615145228215768"
      ]
     },
     "execution_count": 47,
     "metadata": {},
     "output_type": "execute_result"
    }
   ],
   "source": [
    "df1= pd.DataFrame() #Declaring my dataframe df1\n",
    "\n",
    "ti =datetime.datetime(2022,1,1,00,00,0) #starttime\n",
    "tf=datetime.datetime(2023,1,2,00,00,0) #finaltime\n",
    "dt =datetime.timedelta(hours=1) #timestep\n",
    "time = np.arange(ti,tf,dt) #Condensing hour and date in one vector \n",
    "\n",
    "df1['Data'] = time\n",
    "df1['Velocidade (m/s)'] = df['Vel. Vento (m/s)'] \n",
    "df1['Direção (°)']  = df['Dir. Vento (m/s)']\n",
    "\n",
    "#print (len(df1),len(time)) #Checking theis lengths to see if they have the same size\n",
    "df1\n",
    "#statistics.mode(velocity)\n",
    "\n"
   ]
  },
  {
   "attachments": {},
   "cell_type": "markdown",
   "metadata": {},
   "source": [
    "Wind Vector break out in u(East/West) and v (North/South)\n",
    "for the wind avarenging we used the copernicus reference (https://help.marine.copernicus.eu/en/articles/5487266-how-to-average-winds)"
   ]
  },
  {
   "cell_type": "code",
   "execution_count": 61,
   "metadata": {},
   "outputs": [
    {
     "data": {
      "text/plain": [
       "0.7050770665513281"
      ]
     },
     "execution_count": 61,
     "metadata": {},
     "output_type": "execute_result"
    }
   ],
   "source": [
    "vel = df1['Velocidade (m/s)']\n",
    "\n",
    "u = np.sin(np.deg2rad(df1['Direção (°)'])) * df1['Velocidade (m/s)']\n",
    "v = np.cos(np.deg2rad(df1['Direção (°)'])) * df1['Velocidade (m/s)']\n",
    "\n",
    "media_ventos = np.nanmean(u) + np.nanmean(v)# Scalar avarenging\n",
    "media_ventos"
   ]
  }
 ],
 "metadata": {
  "kernelspec": {
   "display_name": "venv",
   "language": "python",
   "name": "python3"
  },
  "language_info": {
   "codemirror_mode": {
    "name": "ipython",
    "version": 3
   },
   "file_extension": ".py",
   "mimetype": "text/x-python",
   "name": "python",
   "nbconvert_exporter": "python",
   "pygments_lexer": "ipython3",
   "version": "3.10.0"
  },
  "orig_nbformat": 4
 },
 "nbformat": 4,
 "nbformat_minor": 2
}
